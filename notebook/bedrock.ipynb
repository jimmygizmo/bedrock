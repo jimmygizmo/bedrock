{
 "cells": [
  {
   "cell_type": "code",
   "id": "install-deps",
   "metadata": {
    "ExecuteTime": {
     "end_time": "2025-06-15T22:20:27.442089Z",
     "start_time": "2025-06-15T22:20:27.006016Z"
    }
   },
   "source": [
    "# 1. Install Dependencies\n",
    "%pip install requests --quiet"
   ],
   "outputs": [
    {
     "name": "stdout",
     "output_type": "stream",
     "text": [
      "Note: you may need to restart the kernel to use updated packages.\n"
     ]
    }
   ],
   "execution_count": 2
  },
  {
   "cell_type": "code",
   "id": "config",
   "metadata": {
    "ExecuteTime": {
     "end_time": "2025-06-15T22:21:16.809475Z",
     "start_time": "2025-06-15T22:21:16.806799Z"
    }
   },
   "source": [
    "# 2. Setup / Configuration\n",
    "import requests\n",
    "\n",
    "BASE_URL = 'http://localhost:48000'"
   ],
   "outputs": [],
   "execution_count": 8
  },
  {
   "cell_type": "code",
   "id": "get-genre",
   "metadata": {
    "ExecuteTime": {
     "end_time": "2025-06-15T22:21:18.058190Z",
     "start_time": "2025-06-15T22:21:18.053646Z"
    }
   },
   "source": [
    "# 3. Request Genre by ID\n",
    "def get_genre_by_id(genre_id: int):\n",
    "    \"\"\"\n",
    "    Fetch a genre from the Magma API by its ID.\n",
    "    \"\"\"\n",
    "    url = f\"{BASE_URL}/genres/{genre_id}\"\n",
    "    print(f\"Requesting: {url}\")\n",
    "    with requests.Session() as session:\n",
    "        response = session.get(url)\n",
    "        print(f\"Response status: {response.status_code}\")\n",
    "        if response.status_code == 200:\n",
    "            return response.json()\n",
    "        else:\n",
    "            print(\"Error:\", response.text)\n",
    "            return None"
   ],
   "outputs": [],
   "execution_count": 9
  },
  {
   "cell_type": "code",
   "id": "call-get-genre",
   "metadata": {
    "ExecuteTime": {
     "end_time": "2025-06-15T22:25:13.199221Z",
     "start_time": "2025-06-15T22:25:13.180681Z"
    }
   },
   "source": [
    "# 4. Run the function to get Genre ID 1\n",
    "genre = get_genre_by_id(1)\n",
    "print(genre)\n",
    "\n",
    "genre = get_genre_by_id(13)\n",
    "print(genre)\n",
    "\n",
    "genre = get_genre_by_id(25)\n",
    "print(genre)"
   ],
   "outputs": [
    {
     "name": "stdout",
     "output_type": "stream",
     "text": [
      "Requesting: http://localhost:48000/genres/1\n",
      "Response status: 200\n",
      "{'GenreId': 1, 'Name': 'Rock'}\n",
      "Requesting: http://localhost:48000/genres/13\n",
      "Response status: 200\n",
      "{'GenreId': 13, 'Name': 'Heavy Metal'}\n",
      "Requesting: http://localhost:48000/genres/25\n",
      "Response status: 200\n",
      "{'GenreId': 25, 'Name': 'Opera'}\n"
     ]
    }
   ],
   "execution_count": 12
  }
 ],
 "metadata": {
  "kernelspec": {
   "display_name": "Python 3 (ipykernel)",
   "language": "python",
   "name": "python3"
  },
  "language_info": {
   "name": "python",
   "version": "3.12.10",
   "mimetype": "text/x-python",
   "file_extension": ".py"
  }
 },
 "nbformat": 4,
 "nbformat_minor": 5
}
